{
 "cells": [
  {
   "cell_type": "code",
   "execution_count": 6,
   "metadata": {
    "collapsed": true
   },
   "outputs": [],
   "source": [
    "import requests\n",
    "from bs4 import BeautifulSoup\n",
    "import pandas as pd"
   ]
  },
  {
   "cell_type": "code",
   "execution_count": 2,
   "metadata": {
    "collapsed": true
   },
   "outputs": [],
   "source": [
    "url = 'http://h1bdata.info/index.php?em=&job=data+scientist&city=san+francisco&year=2016'"
   ]
  },
  {
   "cell_type": "code",
   "execution_count": 3,
   "metadata": {
    "collapsed": true
   },
   "outputs": [],
   "source": [
    "sal = requests.get(url)"
   ]
  },
  {
   "cell_type": "code",
   "execution_count": 4,
   "metadata": {
    "collapsed": true
   },
   "outputs": [],
   "source": [
    "soup = BeautifulSoup(sal.text, 'html.parser')"
   ]
  },
  {
   "cell_type": "code",
   "execution_count": 9,
   "metadata": {
    "collapsed": false
   },
   "outputs": [
    {
     "data": {
      "text/plain": [
       "<table border=\"1\" class=\"tablesorter tablesorter-blue hasStickyHeaders\" id=\"myTable\"><thead><tr><th>EMPLOYER</th><th>JOB TITLE</th><th>BASE SALARY</th><th>LOCATION</th><th data-date-format=\"mm/dd/yy\">SUBMIT DATE</th><th data-date-format=\"mm/dd/yy\">START DATE</th><th>CASE STATUS</th></tr></thead><tbody><tr><td><a href=\"index.php?em=GENSCAPE+INC&amp;job=DATA+SCIENTIST&amp;city=SAN+FRANCISCO&amp;year=2016\">GENSCAPE INC</a></td><td><a href=\"index.php?em=&amp;job=DATA+SCIENTIST&amp;city=SAN+FRANCISCO&amp;year=2016\">DATA SCIENTIST</a></td><td>67,683</td><td><a href=\"index.php?em=&amp;job=DATA+SCIENTIST&amp;city=SAN+FRANCISCO&amp;year=2016\">SAN FRANCISCO, CA</a></td><td>03/08/2016</td><td>09/01/2016</td><td>CERTIFIED</td></tr><tr><td><a href=\"index.php?em=THE+NIELSEN+COMPANY+%28US%29+LLC&amp;job=DATA+SCIENTIST&amp;city=SAN+FRANCISCO&amp;year=2016\">THE NIELSEN COMPANY (US) LLC</a></td><td><a href=\"index.php?em=&amp;job=DATA+SCIENTIST&amp;city=SAN+FRANCISCO&amp;year=2016\">DATA SCIENTIST</a></td><td>77,000</td><td><a href=\"index.php?em=&amp;job=DATA+SCIENTIST&amp;city=SAN+FRANCISCO&amp;year=2016\">SAN FRANCISCO, CA</a></td><td>02/29/2016</td><td>08/26/2016</td><td>CERTIFIED</td></tr><tr><td><a href=\"index.php?em=ARISTOCRAT+TECHNOLOGIES+INC&amp;job=DATA+SCIENTIST&amp;city=SAN+FRANCISCO&amp;year=2016\">ARISTOCRAT TECHNOLOGIES INC</a></td><td><a href=\"index.php?em=&amp;job=DATA+SCIENTIST&amp;city=SAN+FRANCISCO&amp;year=2016\">DATA SCIENTIST</a></td><td>80,000</td><td><a href=\"index.php?em=&amp;job=DATA+SCIENTIST&amp;city=SAN+FRANCISCO&amp;year=2016\">SAN FRANCISCO, CA</a></td><td>05/31/2016</td><td>06/20/2016</td><td>CERTIFIED</td></tr><tr><td><a href=\"index.php?em=UBER+TECHNOLOGIES+INC&amp;job=DATA+SCIENTIST&amp;city=SAN+FRANCISCO&amp;year=2016\">UBER TECHNOLOGIES INC</a></td><td><a href=\"index.php?em=&amp;job=DATA+SCIENTIST&amp;city=SAN+FRANCISCO&amp;year=2016\">DATA SCIENTIST</a></td><td>85,862</td><td><a href=\"index.php?em=&amp;job=DATA+SCIENTIST&amp;city=SAN+FRANCISCO&amp;year=2016\">SAN FRANCISCO, CA</a></td><td>03/09/2016</td><td>09/01/2016</td><td>CERTIFIED</td></tr><tr><td><a href=\"index.php?em=STITCH+FIX+INC&amp;job=DATA+SCIENTIST&amp;city=SAN+FRANCISCO&amp;year=2016\">STITCH FIX INC</a></td><td><a href=\"index.php?em=&amp;job=DATA+SCIENTIST&amp;city=SAN+FRANCISCO&amp;year=2016\">DATA SCIENTIST</a></td><td>85,862</td><td><a href=\"index.php?em=&amp;job=DATA+SCIENTIST&amp;city=SAN+FRANCISCO&amp;year=2016\">SAN FRANCISCO, CA</a></td><td>01/04/2016</td><td>01/11/2016</td><td>CERTIFIED</td></tr><tr><td><a href=\"index.php?em=UBER+TECHNOLOGIES+INC&amp;job=DATA+SCIENTIST&amp;city=SAN+FRANCISCO&amp;year=2016\">UBER TECHNOLOGIES INC</a></td><td><a href=\"index.php?em=&amp;job=DATA+SCIENTIST&amp;city=SAN+FRANCISCO&amp;year=2016\">DATA SCIENTIST</a></td><td>90,000</td><td><a href=\"index.php?em=&amp;job=DATA+SCIENTIST&amp;city=SAN+FRANCISCO&amp;year=2016\">SAN FRANCISCO, CA</a></td><td>03/11/2016</td><td>09/01/2016</td><td>CERTIFIED</td></tr><tr><td><a href=\"index.php?em=WILLIAMS-SONOMA+INC&amp;job=DATA+SCIENTIST&amp;city=SAN+FRANCISCO&amp;year=2016\">WILLIAMS-SONOMA INC</a></td><td><a href=\"index.php?em=&amp;job=DATA+SCIENTIST&amp;city=SAN+FRANCISCO&amp;year=2016\">DATA SCIENTIST</a></td><td>91,166</td><td><a href=\"index.php?em=&amp;job=DATA+SCIENTIST&amp;city=SAN+FRANCISCO&amp;year=2016\">SAN FRANCISCO, CA</a></td><td>02/12/2016</td><td>08/06/2016</td><td>CERTIFIED</td></tr><tr><td><a href=\"index.php?em=UBER+TECHNOLOGIES+INC&amp;job=DATA+SCIENTIST&amp;city=SAN+FRANCISCO&amp;year=2016\">UBER TECHNOLOGIES INC</a></td><td><a href=\"index.php?em=&amp;job=DATA+SCIENTIST&amp;city=SAN+FRANCISCO&amp;year=2016\">DATA SCIENTIST</a></td><td>91,166</td><td><a href=\"index.php?em=&amp;job=DATA+SCIENTIST&amp;city=SAN+FRANCISCO&amp;year=2016\">SAN FRANCISCO, CA</a></td><td>02/10/2016</td><td>02/16/2016</td><td>CERTIFIED</td></tr><tr><td><a href=\"index.php?em=PATREON+INC&amp;job=DATA+SCIENTIST&amp;city=SAN+FRANCISCO&amp;year=2016\">PATREON INC</a></td><td><a href=\"index.php?em=&amp;job=DATA+SCIENTIST&amp;city=SAN+FRANCISCO&amp;year=2016\">DATA SCIENTIST</a></td><td>91,166</td><td><a href=\"index.php?em=&amp;job=DATA+SCIENTIST&amp;city=SAN+FRANCISCO&amp;year=2016\">SAN FRANCISCO, CA</a></td><td>03/04/2016</td><td>08/26/2016</td><td>CERTIFIED</td></tr><tr><td><a href=\"index.php?em=UBER+TECHNOLOGIES+INC&amp;job=DATA+SCIENTIST&amp;city=SAN+FRANCISCO&amp;year=2016\">UBER TECHNOLOGIES INC</a></td><td><a href=\"index.php?em=&amp;job=DATA+SCIENTIST&amp;city=SAN+FRANCISCO&amp;year=2016\">DATA SCIENTIST</a></td><td>91,166</td><td><a href=\"index.php?em=&amp;job=DATA+SCIENTIST&amp;city=SAN+FRANCISCO&amp;year=2016\">SAN FRANCISCO, CA</a></td><td>03/24/2016</td><td>09/10/2016</td><td>CERTIFIED</td></tr><tr><td><a href=\"index.php?em=MONEYLION+INC&amp;job=DATA+SCIENTIST&amp;city=SAN+FRANCISCO&amp;year=2016\">MONEYLION INC</a></td><td><a href=\"index.php?em=&amp;job=DATA+SCIENTIST&amp;city=SAN+FRANCISCO&amp;year=2016\">DATA SCIENTIST</a></td><td>92,000</td><td><a href=\"index.php?em=&amp;job=DATA+SCIENTIST&amp;city=SAN+FRANCISCO&amp;year=2016\">SAN FRANCISCO, CA</a></td><td>02/23/2016</td><td>08/01/2016</td><td>CERTIFIED</td></tr><tr><td><a href=\"index.php?em=KINGCOM+INC&amp;job=DATA+SCIENTIST&amp;city=SAN+FRANCISCO&amp;year=2016\">KINGCOM INC</a></td><td><a href=\"index.php?em=&amp;job=DATA+SCIENTIST&amp;city=SAN+FRANCISCO&amp;year=2016\">DATA SCIENTIST</a></td><td>94,000</td><td><a href=\"index.php?em=&amp;job=DATA+SCIENTIST&amp;city=SAN+FRANCISCO&amp;year=2016\">SAN FRANCISCO, CA</a></td><td>03/01/2016</td><td>08/26/2016</td><td>CERTIFIED</td></tr><tr><td><a href=\"index.php?em=CREDIT+KARMA+INC&amp;job=DATA+SCIENTIST&amp;city=SAN+FRANCISCO&amp;year=2016\">CREDIT KARMA INC</a></td><td><a href=\"index.php?em=&amp;job=DATA+SCIENTIST&amp;city=SAN+FRANCISCO&amp;year=2016\">DATA SCIENTIST</a></td><td>95,000</td><td><a href=\"index.php?em=&amp;job=DATA+SCIENTIST&amp;city=SAN+FRANCISCO&amp;year=2016\">SAN FRANCISCO, CA</a></td><td>02/17/2016</td><td>08/10/2016</td><td>CERTIFIED</td></tr><tr><td><a href=\"index.php?em=UBER+TECHNOLOGIES+INC&amp;job=DATA+SCIENTIST&amp;city=SAN+FRANCISCO&amp;year=2016\">UBER TECHNOLOGIES INC</a></td><td><a href=\"index.php?em=&amp;job=DATA+SCIENTIST&amp;city=SAN+FRANCISCO&amp;year=2016\">DATA SCIENTIST</a></td><td>95,000</td><td><a href=\"index.php?em=&amp;job=DATA+SCIENTIST&amp;city=SAN+FRANCISCO&amp;year=2016\">SAN FRANCISCO, CA</a></td><td>03/09/2016</td><td>09/01/2016</td><td>CERTIFIED</td></tr><tr><td><a href=\"index.php?em=UBER+TECHNOLOGIES+INC&amp;job=DATA+SCIENTIST&amp;city=SAN+FRANCISCO&amp;year=2016\">UBER TECHNOLOGIES INC</a></td><td><a href=\"index.php?em=&amp;job=DATA+SCIENTIST&amp;city=SAN+FRANCISCO&amp;year=2016\">DATA SCIENTIST</a></td><td>95,000</td><td><a href=\"index.php?em=&amp;job=DATA+SCIENTIST&amp;city=SAN+FRANCISCO&amp;year=2016\">SAN FRANCISCO, CA</a></td><td>03/15/2016</td><td>03/21/2016</td><td>CERTIFIED</td></tr><tr><td><a href=\"index.php?em=UBER+TECHNOLOGIES+INC&amp;job=DATA+SCIENTIST&amp;city=SAN+FRANCISCO&amp;year=2016\">UBER TECHNOLOGIES INC</a></td><td><a href=\"index.php?em=&amp;job=DATA+SCIENTIST&amp;city=SAN+FRANCISCO&amp;year=2016\">DATA SCIENTIST</a></td><td>95,000</td><td><a href=\"index.php?em=&amp;job=DATA+SCIENTIST&amp;city=SAN+FRANCISCO&amp;year=2016\">SAN FRANCISCO, CA</a></td><td>05/13/2016</td><td>05/19/2016</td><td>CERTIFIED</td></tr><tr><td><a href=\"index.php?em=ZILLOW+INC&amp;job=DATA+SCIENTIST&amp;city=SAN+FRANCISCO&amp;year=2016\">ZILLOW INC</a></td><td><a href=\"index.php?em=&amp;job=DATA+SCIENTIST&amp;city=SAN+FRANCISCO&amp;year=2016\">DATA SCIENTIST</a></td><td>95,264</td><td><a href=\"index.php?em=&amp;job=DATA+SCIENTIST&amp;city=SAN+FRANCISCO&amp;year=2016\">SAN FRANCISCO, CA</a></td><td>02/25/2016</td><td>08/26/2016</td><td>CERTIFIED</td></tr><tr><td><a href=\"index.php?em=ZILLOW+INC&amp;job=DATA+SCIENTIST&amp;city=SAN+FRANCISCO&amp;year=2016\">ZILLOW INC</a></td><td><a href=\"index.php?em=&amp;job=DATA+SCIENTIST&amp;city=SAN+FRANCISCO&amp;year=2016\">DATA SCIENTIST</a></td><td>95,264</td><td><a href=\"index.php?em=&amp;job=DATA+SCIENTIST&amp;city=SAN+FRANCISCO&amp;year=2016\">SAN FRANCISCO, CA</a></td><td>02/26/2016</td><td>08/24/2016</td><td>CERTIFIED</td></tr><tr><td><a href=\"index.php?em=PINTEREST+INC&amp;job=DATA+SCIENTIST&amp;city=SAN+FRANCISCO&amp;year=2016\">PINTEREST INC</a></td><td><a href=\"index.php?em=&amp;job=DATA+SCIENTIST&amp;city=SAN+FRANCISCO&amp;year=2016\">DATA SCIENTIST</a></td><td>100,000</td><td><a href=\"index.php?em=&amp;job=DATA+SCIENTIST&amp;city=SAN+FRANCISCO&amp;year=2016\">SAN FRANCISCO, CA</a></td><td>01/28/2016</td><td>07/20/2016</td><td>DENIED</td></tr><tr><td><a href=\"index.php?em=PINTEREST+INC&amp;job=DATA+SCIENTIST&amp;city=SAN+FRANCISCO&amp;year=2016\">PINTEREST INC</a></td><td><a href=\"index.php?em=&amp;job=DATA+SCIENTIST&amp;city=SAN+FRANCISCO&amp;year=2016\">DATA SCIENTIST</a></td><td>100,000</td><td><a href=\"index.php?em=&amp;job=DATA+SCIENTIST&amp;city=SAN+FRANCISCO&amp;year=2016\">SAN FRANCISCO, CA</a></td><td>02/01/2016</td><td>08/02/2016</td><td>CERTIFIED</td></tr><tr><td><a href=\"index.php?em=RELAYRIDES+INC&amp;job=DATA+SCIENTIST&amp;city=SAN+FRANCISCO&amp;year=2016\">RELAYRIDES INC</a></td><td><a href=\"index.php?em=&amp;job=DATA+SCIENTIST&amp;city=SAN+FRANCISCO&amp;year=2016\">DATA SCIENTIST</a></td><td>100,000</td><td><a href=\"index.php?em=&amp;job=DATA+SCIENTIST&amp;city=SAN+FRANCISCO&amp;year=2016\">SAN FRANCISCO, CA</a></td><td>02/29/2016</td><td>08/15/2016</td><td>CERTIFIED</td></tr><tr><td><a href=\"index.php?em=RELAYRIDES+INC&amp;job=DATA+SCIENTIST&amp;city=SAN+FRANCISCO&amp;year=2016\">RELAYRIDES INC</a></td><td><a href=\"index.php?em=&amp;job=DATA+SCIENTIST&amp;city=SAN+FRANCISCO&amp;year=2016\">DATA SCIENTIST</a></td><td>100,000</td><td><a href=\"index.php?em=&amp;job=DATA+SCIENTIST&amp;city=SAN+FRANCISCO&amp;year=2016\">SAN FRANCISCO, CA</a></td><td>03/15/2016</td><td>08/15/2016</td><td>CERTIFIED</td></tr><tr><td><a href=\"index.php?em=UBER+TECHNOLOGIES+INC&amp;job=DATA+SCIENTIST&amp;city=SAN+FRANCISCO&amp;year=2016\">UBER TECHNOLOGIES INC</a></td><td><a href=\"index.php?em=&amp;job=DATA+SCIENTIST&amp;city=SAN+FRANCISCO&amp;year=2016\">DATA SCIENTIST</a></td><td>100,000</td><td><a href=\"index.php?em=&amp;job=DATA+SCIENTIST&amp;city=SAN+FRANCISCO&amp;year=2016\">SAN FRANCISCO, CA</a></td><td>03/23/2016</td><td>09/10/2016</td><td>CERTIFIED</td></tr><tr><td><a href=\"index.php?em=LINKEDIN+CORPORATION&amp;job=DATA+SCIENTIST&amp;city=SAN+FRANCISCO&amp;year=2016\">LINKEDIN CORPORATION</a></td><td><a href=\"index.php?em=&amp;job=DATA+SCIENTIST&amp;city=SAN+FRANCISCO&amp;year=2016\">DATA SCIENTIST</a></td><td>100,800</td><td><a href=\"index.php?em=&amp;job=DATA+SCIENTIST&amp;city=SAN+FRANCISCO&amp;year=2016\">SAN FRANCISCO, CA</a></td><td>03/16/2016</td><td>09/14/2016</td><td>CERTIFIED</td></tr><tr><td><a href=\"index.php?em=20N+LABS+INC&amp;job=DATA+SCIENTIST&amp;city=SAN+FRANCISCO&amp;year=2016\">20N LABS INC</a></td><td><a href=\"index.php?em=&amp;job=DATA+SCIENTIST&amp;city=SAN+FRANCISCO&amp;year=2016\">DATA SCIENTIST</a></td><td>102,357</td><td><a href=\"index.php?em=&amp;job=DATA+SCIENTIST&amp;city=SAN+FRANCISCO&amp;year=2016\">SAN FRANCISCO, CA</a></td><td>03/08/2016</td><td>03/08/2016</td><td>CERTIFIED</td></tr><tr><td><a href=\"index.php?em=PERFECT+PRICE+INC&amp;job=DATA+SCIENTIST&amp;city=SAN+FRANCISCO&amp;year=2016\">PERFECT PRICE INC</a></td><td><a href=\"index.php?em=&amp;job=DATA+SCIENTIST&amp;city=SAN+FRANCISCO&amp;year=2016\">DATA SCIENTIST</a></td><td>102,390</td><td><a href=\"index.php?em=&amp;job=DATA+SCIENTIST&amp;city=SAN+FRANCISCO&amp;year=2016\">SAN FRANCISCO, CA</a></td><td>02/29/2016</td><td>08/29/2016</td><td>DENIED</td></tr><tr><td><a href=\"index.php?em=SQUARE+INC&amp;job=DATA+SCIENTIST&amp;city=SAN+FRANCISCO&amp;year=2016\">SQUARE INC</a></td><td><a href=\"index.php?em=&amp;job=DATA+SCIENTIST&amp;city=SAN+FRANCISCO&amp;year=2016\">DATA SCIENTIST</a></td><td>104,021</td><td><a href=\"index.php?em=&amp;job=DATA+SCIENTIST&amp;city=SAN+FRANCISCO&amp;year=2016\">SAN FRANCISCO, CA</a></td><td>03/07/2016</td><td>08/29/2016</td><td>CERTIFIED</td></tr><tr><td><a href=\"index.php?em=PROSPER+MARKETPLACE+INC&amp;job=DATA+SCIENTIST&amp;city=SAN+FRANCISCO&amp;year=2016\">PROSPER MARKETPLACE INC</a></td><td><a href=\"index.php?em=&amp;job=DATA+SCIENTIST&amp;city=SAN+FRANCISCO&amp;year=2016\">DATA SCIENTIST</a></td><td>105,000</td><td><a href=\"index.php?em=&amp;job=DATA+SCIENTIST&amp;city=SAN+FRANCISCO&amp;year=2016\">SAN FRANCISCO, CA</a></td><td>03/15/2016</td><td>09/10/2016</td><td>CERTIFIED</td></tr><tr><td><a href=\"index.php?em=UBER+TECHNOLOGIES+INC&amp;job=DATA+SCIENTIST&amp;city=SAN+FRANCISCO&amp;year=2016\">UBER TECHNOLOGIES INC</a></td><td><a href=\"index.php?em=&amp;job=DATA+SCIENTIST&amp;city=SAN+FRANCISCO&amp;year=2016\">DATA SCIENTIST</a></td><td>107,390</td><td><a href=\"index.php?em=&amp;job=DATA+SCIENTIST&amp;city=SAN+FRANCISCO&amp;year=2016\">SAN FRANCISCO, CA</a></td><td>01/19/2016</td><td>01/22/2016</td><td>CERTIFIED</td></tr><tr><td><a href=\"index.php?em=POCKET+GEMS+INC&amp;job=DATA+SCIENTIST&amp;city=SAN+FRANCISCO&amp;year=2016\">POCKET GEMS INC</a></td><td><a href=\"index.php?em=&amp;job=DATA+SCIENTIST&amp;city=SAN+FRANCISCO&amp;year=2016\">DATA SCIENTIST</a></td><td>107,390</td><td><a href=\"index.php?em=&amp;job=DATA+SCIENTIST&amp;city=SAN+FRANCISCO&amp;year=2016\">SAN FRANCISCO, CA</a></td><td>03/03/2016</td><td>03/07/2016</td><td>CERTIFIED</td></tr><tr><td><a href=\"index.php?em=UBER+TECHNOLOGIES+INC&amp;job=DATA+SCIENTIST&amp;city=SAN+FRANCISCO&amp;year=2016\">UBER TECHNOLOGIES INC</a></td><td><a href=\"index.php?em=&amp;job=DATA+SCIENTIST&amp;city=SAN+FRANCISCO&amp;year=2016\">DATA SCIENTIST</a></td><td>107,390</td><td><a href=\"index.php?em=&amp;job=DATA+SCIENTIST&amp;city=SAN+FRANCISCO&amp;year=2016\">SAN FRANCISCO, CA</a></td><td>03/13/2016</td><td>09/01/2016</td><td>CERTIFIED</td></tr><tr><td><a href=\"index.php?em=UBER+TECHNOLOGIES+INC&amp;job=DATA+SCIENTIST&amp;city=SAN+FRANCISCO&amp;year=2016\">UBER TECHNOLOGIES INC</a></td><td><a href=\"index.php?em=&amp;job=DATA+SCIENTIST&amp;city=SAN+FRANCISCO&amp;year=2016\">DATA SCIENTIST</a></td><td>107,390</td><td><a href=\"index.php?em=&amp;job=DATA+SCIENTIST&amp;city=SAN+FRANCISCO&amp;year=2016\">SAN FRANCISCO, CA</a></td><td>03/14/2016</td><td>09/10/2016</td><td>CERTIFIED</td></tr><tr><td><a href=\"index.php?em=UBER+TECHNOLOGIES+INC&amp;job=DATA+SCIENTIST&amp;city=SAN+FRANCISCO&amp;year=2016\">UBER TECHNOLOGIES INC</a></td><td><a href=\"index.php?em=&amp;job=DATA+SCIENTIST&amp;city=SAN+FRANCISCO&amp;year=2016\">DATA SCIENTIST</a></td><td>107,390</td><td><a href=\"index.php?em=&amp;job=DATA+SCIENTIST&amp;city=SAN+FRANCISCO&amp;year=2016\">SAN FRANCISCO, CA</a></td><td>03/14/2016</td><td>09/10/2016</td><td>CERTIFIED</td></tr><tr><td><a href=\"index.php?em=QUID+INC&amp;job=DATA+SCIENTIST&amp;city=SAN+FRANCISCO&amp;year=2016\">QUID INC</a></td><td><a href=\"index.php?em=&amp;job=DATA+SCIENTIST&amp;city=SAN+FRANCISCO&amp;year=2016\">DATA SCIENTIST</a></td><td>110,000</td><td><a href=\"index.php?em=&amp;job=DATA+SCIENTIST&amp;city=SAN+FRANCISCO&amp;year=2016\">SAN FRANCISCO, CA</a></td><td>01/13/2016</td><td>06/15/2016</td><td>CERTIFIED</td></tr><tr><td><a href=\"index.php?em=QUID+INC&amp;job=DATA+SCIENTIST&amp;city=SAN+FRANCISCO&amp;year=2016\">QUID INC</a></td><td><a href=\"index.php?em=&amp;job=DATA+SCIENTIST&amp;city=SAN+FRANCISCO&amp;year=2016\">DATA SCIENTIST</a></td><td>110,000</td><td><a href=\"index.php?em=&amp;job=DATA+SCIENTIST&amp;city=SAN+FRANCISCO&amp;year=2016\">SAN FRANCISCO, CA</a></td><td>01/19/2016</td><td>07/20/2016</td><td>CERTIFIED</td></tr><tr><td><a href=\"index.php?em=SERVATURE+INC&amp;job=DATA+SCIENTIST&amp;city=SAN+FRANCISCO&amp;year=2016\">SERVATURE INC</a></td><td><a href=\"index.php?em=&amp;job=DATA+SCIENTIST&amp;city=SAN+FRANCISCO&amp;year=2016\">DATA SCIENTIST</a></td><td>110,000</td><td><a href=\"index.php?em=&amp;job=DATA+SCIENTIST&amp;city=SAN+FRANCISCO&amp;year=2016\">SAN FRANCISCO, CA</a></td><td>03/29/2016</td><td>08/15/2016</td><td>CERTIFIED</td></tr><tr><td><a href=\"index.php?em=DATABRICKS+INC&amp;job=DATA+SCIENTIST&amp;city=SAN+FRANCISCO&amp;year=2016\">DATABRICKS INC</a></td><td><a href=\"index.php?em=&amp;job=DATA+SCIENTIST&amp;city=SAN+FRANCISCO&amp;year=2016\">DATA SCIENTIST</a></td><td>110,000</td><td><a href=\"index.php?em=&amp;job=DATA+SCIENTIST&amp;city=SAN+FRANCISCO&amp;year=2016\">SAN FRANCISCO, CA</a></td><td>03/22/2016</td><td>09/21/2016</td><td>CERTIFIED</td></tr><tr><td><a href=\"index.php?em=LUXE+VALET+INC&amp;job=DATA+SCIENTIST&amp;city=SAN+FRANCISCO&amp;year=2016\">LUXE VALET INC</a></td><td><a href=\"index.php?em=&amp;job=DATA+SCIENTIST&amp;city=SAN+FRANCISCO&amp;year=2016\">DATA SCIENTIST</a></td><td>110,000</td><td><a href=\"index.php?em=&amp;job=DATA+SCIENTIST&amp;city=SAN+FRANCISCO&amp;year=2016\">SAN FRANCISCO, CA</a></td><td>03/24/2016</td><td>03/25/2016</td><td>CERTIFIED</td></tr><tr><td><a href=\"index.php?em=DATABRICKS+INC&amp;job=DATA+SCIENTIST&amp;city=SAN+FRANCISCO&amp;year=2016\">DATABRICKS INC</a></td><td><a href=\"index.php?em=&amp;job=DATA+SCIENTIST&amp;city=SAN+FRANCISCO&amp;year=2016\">DATA SCIENTIST</a></td><td>111,571</td><td><a href=\"index.php?em=&amp;job=DATA+SCIENTIST&amp;city=SAN+FRANCISCO&amp;year=2016\">SAN FRANCISCO, CA</a></td><td>02/25/2016</td><td>08/20/2016</td><td>CERTIFIED</td></tr><tr><td><a href=\"index.php?em=POPSUGAR+INC&amp;job=DATA+SCIENTIST&amp;city=SAN+FRANCISCO&amp;year=2016\">POPSUGAR INC</a></td><td><a href=\"index.php?em=&amp;job=DATA+SCIENTIST&amp;city=SAN+FRANCISCO&amp;year=2016\">DATA SCIENTIST</a></td><td>115,000</td><td><a href=\"index.php?em=&amp;job=DATA+SCIENTIST&amp;city=SAN+FRANCISCO&amp;year=2016\">SAN FRANCISCO, CA</a></td><td>02/29/2016</td><td>08/26/2016</td><td>CERTIFIED</td></tr><tr><td><a href=\"index.php?em=UBER+TECHNOLOGIES+INC&amp;job=DATA+SCIENTIST&amp;city=SAN+FRANCISCO&amp;year=2016\">UBER TECHNOLOGIES INC</a></td><td><a href=\"index.php?em=&amp;job=DATA+SCIENTIST&amp;city=SAN+FRANCISCO&amp;year=2016\">DATA SCIENTIST</a></td><td>115,000</td><td><a href=\"index.php?em=&amp;job=DATA+SCIENTIST&amp;city=SAN+FRANCISCO&amp;year=2016\">SAN FRANCISCO, CA</a></td><td>03/09/2016</td><td>09/01/2016</td><td>CERTIFIED</td></tr><tr><td><a href=\"index.php?em=GINGERIO+INC&amp;job=DATA+SCIENTIST&amp;city=SAN+FRANCISCO&amp;year=2016\">GINGERIO INC</a></td><td><a href=\"index.php?em=&amp;job=DATA+SCIENTIST&amp;city=SAN+FRANCISCO&amp;year=2016\">DATA SCIENTIST</a></td><td>115,000</td><td><a href=\"index.php?em=&amp;job=DATA+SCIENTIST&amp;city=SAN+FRANCISCO&amp;year=2016\">SAN FRANCISCO, CA</a></td><td>02/26/2016</td><td>08/21/2016</td><td>CERTIFIED</td></tr><tr><td><a href=\"index.php?em=UBER+TECHNOLOGIES+INC&amp;job=DATA+SCIENTIST&amp;city=SAN+FRANCISCO&amp;year=2016\">UBER TECHNOLOGIES INC</a></td><td><a href=\"index.php?em=&amp;job=DATA+SCIENTIST&amp;city=SAN+FRANCISCO&amp;year=2016\">DATA SCIENTIST</a></td><td>115,000</td><td><a href=\"index.php?em=&amp;job=DATA+SCIENTIST&amp;city=SAN+FRANCISCO&amp;year=2016\">SAN FRANCISCO, CA</a></td><td>03/13/2016</td><td>08/25/2016</td><td>CERTIFIED</td></tr><tr><td><a href=\"index.php?em=UBER+TECHNOLOGIES+INC&amp;job=DATA+SCIENTIST&amp;city=SAN+FRANCISCO&amp;year=2016\">UBER TECHNOLOGIES INC</a></td><td><a href=\"index.php?em=&amp;job=DATA+SCIENTIST&amp;city=SAN+FRANCISCO&amp;year=2016\">DATA SCIENTIST</a></td><td>115,000</td><td><a href=\"index.php?em=&amp;job=DATA+SCIENTIST&amp;city=SAN+FRANCISCO&amp;year=2016\">SAN FRANCISCO, CA</a></td><td>03/14/2016</td><td>09/10/2016</td><td>CERTIFIED</td></tr><tr><td><a href=\"index.php?em=UBER+TECHNOLOGIES+INC&amp;job=DATA+SCIENTIST&amp;city=SAN+FRANCISCO&amp;year=2016\">UBER TECHNOLOGIES INC</a></td><td><a href=\"index.php?em=&amp;job=DATA+SCIENTIST&amp;city=SAN+FRANCISCO&amp;year=2016\">DATA SCIENTIST</a></td><td>115,000</td><td><a href=\"index.php?em=&amp;job=DATA+SCIENTIST&amp;city=SAN+FRANCISCO&amp;year=2016\">SAN FRANCISCO, CA</a></td><td>03/13/2016</td><td>09/01/2016</td><td>CERTIFIED</td></tr><tr><td><a href=\"index.php?em=RIVIERA+PARTNERS&amp;job=DATA+SCIENTIST&amp;city=SAN+FRANCISCO&amp;year=2016\">RIVIERA PARTNERS</a></td><td><a href=\"index.php?em=&amp;job=DATA+SCIENTIST&amp;city=SAN+FRANCISCO&amp;year=2016\">DATA SCIENTIST</a></td><td>115,000</td><td><a href=\"index.php?em=&amp;job=DATA+SCIENTIST&amp;city=SAN+FRANCISCO&amp;year=2016\">SAN FRANCISCO, CA</a></td><td>03/11/2016</td><td>09/08/2016</td><td>CERTIFIED</td></tr><tr><td><a href=\"index.php?em=UBER+TECHNOLOGIES+INC&amp;job=DATA+SCIENTIST&amp;city=SAN+FRANCISCO&amp;year=2016\">UBER TECHNOLOGIES INC</a></td><td><a href=\"index.php?em=&amp;job=DATA+SCIENTIST&amp;city=SAN+FRANCISCO&amp;year=2016\">DATA SCIENTIST</a></td><td>115,000</td><td><a href=\"index.php?em=&amp;job=DATA+SCIENTIST&amp;city=SAN+FRANCISCO&amp;year=2016\">SAN FRANCISCO, CA</a></td><td>03/14/2016</td><td>09/10/2016</td><td>CERTIFIED</td></tr><tr><td><a href=\"index.php?em=UBER+TECHNOLOGIES+INC&amp;job=DATA+SCIENTIST&amp;city=SAN+FRANCISCO&amp;year=2016\">UBER TECHNOLOGIES INC</a></td><td><a href=\"index.php?em=&amp;job=DATA+SCIENTIST&amp;city=SAN+FRANCISCO&amp;year=2016\">DATA SCIENTIST</a></td><td>115,000</td><td><a href=\"index.php?em=&amp;job=DATA+SCIENTIST&amp;city=SAN+FRANCISCO&amp;year=2016\">SAN FRANCISCO, CA</a></td><td>03/15/2016</td><td>09/01/2016</td><td>CERTIFIED</td></tr><tr><td><a href=\"index.php?em=UBER+TECHNOLOGIES+INC&amp;job=DATA+SCIENTIST&amp;city=SAN+FRANCISCO&amp;year=2016\">UBER TECHNOLOGIES INC</a></td><td><a href=\"index.php?em=&amp;job=DATA+SCIENTIST&amp;city=SAN+FRANCISCO&amp;year=2016\">DATA SCIENTIST</a></td><td>115,000</td><td><a href=\"index.php?em=&amp;job=DATA+SCIENTIST&amp;city=SAN+FRANCISCO&amp;year=2016\">SAN FRANCISCO, CA</a></td><td>03/14/2016</td><td>09/01/2016</td><td>CERTIFIED</td></tr><tr><td><a href=\"index.php?em=UBER+TECHNOLOGIES+INC&amp;job=DATA+SCIENTIST&amp;city=SAN+FRANCISCO&amp;year=2016\">UBER TECHNOLOGIES INC</a></td><td><a href=\"index.php?em=&amp;job=DATA+SCIENTIST&amp;city=SAN+FRANCISCO&amp;year=2016\">DATA SCIENTIST</a></td><td>115,000</td><td><a href=\"index.php?em=&amp;job=DATA+SCIENTIST&amp;city=SAN+FRANCISCO&amp;year=2016\">SAN FRANCISCO, CA</a></td><td>03/14/2016</td><td>09/10/2016</td><td>CERTIFIED</td></tr><tr><td><a href=\"index.php?em=UBER+TECHNOLOGIES+INC&amp;job=DATA+SCIENTIST&amp;city=SAN+FRANCISCO&amp;year=2016\">UBER TECHNOLOGIES INC</a></td><td><a href=\"index.php?em=&amp;job=DATA+SCIENTIST&amp;city=SAN+FRANCISCO&amp;year=2016\">DATA SCIENTIST</a></td><td>115,000</td><td><a href=\"index.php?em=&amp;job=DATA+SCIENTIST&amp;city=SAN+FRANCISCO&amp;year=2016\">SAN FRANCISCO, CA</a></td><td>03/17/2016</td><td>09/10/2016</td><td>CERTIFIED</td></tr><tr><td><a href=\"index.php?em=UBER+TECHNOLOGIES+INC&amp;job=DATA+SCIENTIST&amp;city=SAN+FRANCISCO&amp;year=2016\">UBER TECHNOLOGIES INC</a></td><td><a href=\"index.php?em=&amp;job=DATA+SCIENTIST&amp;city=SAN+FRANCISCO&amp;year=2016\">DATA SCIENTIST</a></td><td>115,000</td><td><a href=\"index.php?em=&amp;job=DATA+SCIENTIST&amp;city=SAN+FRANCISCO&amp;year=2016\">SAN FRANCISCO, CA</a></td><td>03/21/2016</td><td>03/25/2016</td><td>CERTIFIED</td></tr><tr><td><a href=\"index.php?em=UBER+TECHNOLOGIES+INC&amp;job=DATA+SCIENTIST&amp;city=SAN+FRANCISCO&amp;year=2016\">UBER TECHNOLOGIES INC</a></td><td><a href=\"index.php?em=&amp;job=DATA+SCIENTIST&amp;city=SAN+FRANCISCO&amp;year=2016\">DATA SCIENTIST</a></td><td>115,000</td><td><a href=\"index.php?em=&amp;job=DATA+SCIENTIST&amp;city=SAN+FRANCISCO&amp;year=2016\">SAN FRANCISCO, CA</a></td><td>03/22/2016</td><td>09/10/2016</td><td>CERTIFIED</td></tr><tr><td><a href=\"index.php?em=UBER+TECHNOLOGIES+INC&amp;job=DATA+SCIENTIST&amp;city=SAN+FRANCISCO&amp;year=2016\">UBER TECHNOLOGIES INC</a></td><td><a href=\"index.php?em=&amp;job=DATA+SCIENTIST&amp;city=SAN+FRANCISCO&amp;year=2016\">DATA SCIENTIST</a></td><td>115,000</td><td><a href=\"index.php?em=&amp;job=DATA+SCIENTIST&amp;city=SAN+FRANCISCO&amp;year=2016\">SAN FRANCISCO, CA</a></td><td>03/21/2016</td><td>03/25/2016</td><td>CERTIFIED</td></tr><tr><td><a href=\"index.php?em=UBER+TECHNOLOGIES+INC&amp;job=DATA+SCIENTIST&amp;city=SAN+FRANCISCO&amp;year=2016\">UBER TECHNOLOGIES INC</a></td><td><a href=\"index.php?em=&amp;job=DATA+SCIENTIST&amp;city=SAN+FRANCISCO&amp;year=2016\">DATA SCIENTIST</a></td><td>115,000</td><td><a href=\"index.php?em=&amp;job=DATA+SCIENTIST&amp;city=SAN+FRANCISCO&amp;year=2016\">SAN FRANCISCO, CA</a></td><td>04/21/2016</td><td>04/25/2016</td><td>CERTIFIED</td></tr><tr><td><a href=\"index.php?em=UBER+TECHNOLOGIES+INC&amp;job=DATA+SCIENTIST&amp;city=SAN+FRANCISCO&amp;year=2016\">UBER TECHNOLOGIES INC</a></td><td><a href=\"index.php?em=&amp;job=DATA+SCIENTIST&amp;city=SAN+FRANCISCO&amp;year=2016\">DATA SCIENTIST</a></td><td>115,000</td><td><a href=\"index.php?em=&amp;job=DATA+SCIENTIST&amp;city=SAN+FRANCISCO&amp;year=2016\">SAN FRANCISCO, CA</a></td><td>05/26/2016</td><td>08/01/2016</td><td>CERTIFIED</td></tr><tr><td><a href=\"index.php?em=UBER+TECHNOLOGIES+INC&amp;job=DATA+SCIENTIST&amp;city=SAN+FRANCISCO&amp;year=2016\">UBER TECHNOLOGIES INC</a></td><td><a href=\"index.php?em=&amp;job=DATA+SCIENTIST&amp;city=SAN+FRANCISCO&amp;year=2016\">DATA SCIENTIST</a></td><td>115,000</td><td><a href=\"index.php?em=&amp;job=DATA+SCIENTIST&amp;city=SAN+FRANCISCO&amp;year=2016\">SAN FRANCISCO, CA</a></td><td>06/14/2016</td><td>06/20/2016</td><td>CERTIFIED</td></tr><tr><td><a href=\"index.php?em=UBER+TECHNOLOGIES+INC&amp;job=DATA+SCIENTIST&amp;city=SAN+FRANCISCO&amp;year=2016\">UBER TECHNOLOGIES INC</a></td><td><a href=\"index.php?em=&amp;job=DATA+SCIENTIST&amp;city=SAN+FRANCISCO&amp;year=2016\">DATA SCIENTIST</a></td><td>115,000</td><td><a href=\"index.php?em=&amp;job=DATA+SCIENTIST&amp;city=SAN+FRANCISCO&amp;year=2016\">SAN FRANCISCO, CA</a></td><td>06/17/2016</td><td>06/22/2016</td><td>CERTIFIED</td></tr><tr><td><a href=\"index.php?em=TWITTER+INC&amp;job=DATA+SCIENTIST&amp;city=SAN+FRANCISCO&amp;year=2016\">TWITTER INC</a></td><td><a href=\"index.php?em=&amp;job=DATA+SCIENTIST&amp;city=SAN+FRANCISCO&amp;year=2016\">DATA SCIENTIST</a></td><td>117,000</td><td><a href=\"index.php?em=&amp;job=DATA+SCIENTIST&amp;city=SAN+FRANCISCO&amp;year=2016\">SAN FRANCISCO, CA</a></td><td>03/22/2016</td><td>09/18/2016</td><td>CERTIFIED</td></tr><tr><td><a href=\"index.php?em=DOXIMITY+INC&amp;job=DATA+SCIENTIST&amp;city=SAN+FRANCISCO&amp;year=2016\">DOXIMITY INC</a></td><td><a href=\"index.php?em=&amp;job=DATA+SCIENTIST&amp;city=SAN+FRANCISCO&amp;year=2016\">DATA SCIENTIST</a></td><td>120,000</td><td><a href=\"index.php?em=&amp;job=DATA+SCIENTIST&amp;city=SAN+FRANCISCO&amp;year=2016\">SAN FRANCISCO, CA</a></td><td>01/16/2016</td><td>07/01/2016</td><td>CERTIFIED</td></tr><tr><td><a href=\"index.php?em=NEXTDOORCOM+INC&amp;job=DATA+SCIENTIST&amp;city=SAN+FRANCISCO&amp;year=2016\">NEXTDOORCOM INC</a></td><td><a href=\"index.php?em=&amp;job=DATA+SCIENTIST&amp;city=SAN+FRANCISCO&amp;year=2016\">DATA SCIENTIST</a></td><td>120,000</td><td><a href=\"index.php?em=&amp;job=DATA+SCIENTIST&amp;city=SAN+FRANCISCO&amp;year=2016\">SAN FRANCISCO, CA</a></td><td>02/18/2016</td><td>08/01/2016</td><td>CERTIFIED</td></tr><tr><td><a href=\"index.php?em=RADIUMONE+INC&amp;job=DATA+SCIENTIST&amp;city=SAN+FRANCISCO&amp;year=2016\">RADIUMONE INC</a></td><td><a href=\"index.php?em=&amp;job=DATA+SCIENTIST&amp;city=SAN+FRANCISCO&amp;year=2016\">DATA SCIENTIST</a></td><td>120,000</td><td><a href=\"index.php?em=&amp;job=DATA+SCIENTIST&amp;city=SAN+FRANCISCO&amp;year=2016\">SAN FRANCISCO, CA</a></td><td>03/03/2016</td><td>08/30/2016</td><td>CERTIFIED</td></tr><tr><td><a href=\"index.php?em=ADLAST+INC&amp;job=DATA+SCIENTIST&amp;city=SAN+FRANCISCO&amp;year=2016\">ADLAST INC</a></td><td><a href=\"index.php?em=&amp;job=DATA+SCIENTIST&amp;city=SAN+FRANCISCO&amp;year=2016\">DATA SCIENTIST</a></td><td>120,000</td><td><a href=\"index.php?em=&amp;job=DATA+SCIENTIST&amp;city=SAN+FRANCISCO&amp;year=2016\">SAN FRANCISCO, CA</a></td><td>03/09/2016</td><td>08/02/2016</td><td>CERTIFIED</td></tr><tr><td><a href=\"index.php?em=VESTED+FINANCE+INC&amp;job=DATA+SCIENTIST&amp;city=SAN+FRANCISCO&amp;year=2016\">VESTED FINANCE INC</a></td><td><a href=\"index.php?em=&amp;job=DATA+SCIENTIST&amp;city=SAN+FRANCISCO&amp;year=2016\">DATA SCIENTIST</a></td><td>120,000</td><td><a href=\"index.php?em=&amp;job=DATA+SCIENTIST&amp;city=SAN+FRANCISCO&amp;year=2016\">SAN FRANCISCO, CA</a></td><td>03/11/2016</td><td>09/10/2016</td><td>CERTIFIED</td></tr><tr><td><a href=\"index.php?em=VESTED+FINANCE+INC&amp;job=DATA+SCIENTIST&amp;city=SAN+FRANCISCO&amp;year=2016\">VESTED FINANCE INC</a></td><td><a href=\"index.php?em=&amp;job=DATA+SCIENTIST&amp;city=SAN+FRANCISCO&amp;year=2016\">DATA SCIENTIST</a></td><td>120,000</td><td><a href=\"index.php?em=&amp;job=DATA+SCIENTIST&amp;city=SAN+FRANCISCO&amp;year=2016\">SAN FRANCISCO, CA</a></td><td>03/31/2016</td><td>09/10/2016</td><td>CERTIFIED</td></tr><tr><td><a href=\"index.php?em=DROPBOX+INC&amp;job=DATA+SCIENTIST&amp;city=SAN+FRANCISCO&amp;year=2016\">DROPBOX INC</a></td><td><a href=\"index.php?em=&amp;job=DATA+SCIENTIST&amp;city=SAN+FRANCISCO&amp;year=2016\">DATA SCIENTIST</a></td><td>120,000</td><td><a href=\"index.php?em=&amp;job=DATA+SCIENTIST&amp;city=SAN+FRANCISCO&amp;year=2016\">SAN FRANCISCO, CA</a></td><td>06/07/2016</td><td>06/21/2016</td><td>CERTIFIED</td></tr><tr><td><a href=\"index.php?em=UBIOME+INC&amp;job=DATA+SCIENTIST&amp;city=SAN+FRANCISCO&amp;year=2016\">UBIOME INC</a></td><td><a href=\"index.php?em=&amp;job=DATA+SCIENTIST&amp;city=SAN+FRANCISCO&amp;year=2016\">DATA SCIENTIST</a></td><td>120,000</td><td><a href=\"index.php?em=&amp;job=DATA+SCIENTIST&amp;city=SAN+FRANCISCO&amp;year=2016\">SAN FRANCISCO, CA</a></td><td>06/14/2016</td><td>09/06/2016</td><td>CERTIFIED</td></tr><tr><td><a href=\"index.php?em=PERFECT+PRICE+INC&amp;job=DATA+SCIENTIST&amp;city=SAN+FRANCISCO&amp;year=2016\">PERFECT PRICE INC</a></td><td><a href=\"index.php?em=&amp;job=DATA+SCIENTIST&amp;city=SAN+FRANCISCO&amp;year=2016\">DATA SCIENTIST</a></td><td>120,390</td><td><a href=\"index.php?em=&amp;job=DATA+SCIENTIST&amp;city=SAN+FRANCISCO&amp;year=2016\">SAN FRANCISCO, CA</a></td><td>03/02/2016</td><td>08/29/2016</td><td>CERTIFIED</td></tr><tr><td><a href=\"index.php?em=AIRBNB+INC&amp;job=DATA+SCIENTIST&amp;city=SAN+FRANCISCO&amp;year=2016\">AIRBNB INC</a></td><td><a href=\"index.php?em=&amp;job=DATA+SCIENTIST&amp;city=SAN+FRANCISCO&amp;year=2016\">DATA SCIENTIST</a></td><td>123,000</td><td><a href=\"index.php?em=&amp;job=DATA+SCIENTIST&amp;city=SAN+FRANCISCO&amp;year=2016\">SAN FRANCISCO, CA</a></td><td>02/11/2016</td><td>08/01/2016</td><td>CERTIFIED</td></tr><tr><td><a href=\"index.php?em=STITCH+FIX+INC&amp;job=DATA+SCIENTIST&amp;city=SAN+FRANCISCO&amp;year=2016\">STITCH FIX INC</a></td><td><a href=\"index.php?em=&amp;job=DATA+SCIENTIST&amp;city=SAN+FRANCISCO&amp;year=2016\">DATA SCIENTIST</a></td><td>123,594</td><td><a href=\"index.php?em=&amp;job=DATA+SCIENTIST&amp;city=SAN+FRANCISCO&amp;year=2016\">SAN FRANCISCO, CA</a></td><td>02/11/2016</td><td>08/11/2016</td><td>CERTIFIED</td></tr><tr><td><a href=\"index.php?em=UBER+TECHNOLOGIES+INC&amp;job=DATA+SCIENTIST&amp;city=SAN+FRANCISCO&amp;year=2016\">UBER TECHNOLOGIES INC</a></td><td><a href=\"index.php?em=&amp;job=DATA+SCIENTIST&amp;city=SAN+FRANCISCO&amp;year=2016\">DATA SCIENTIST</a></td><td>123,594</td><td><a href=\"index.php?em=&amp;job=DATA+SCIENTIST&amp;city=SAN+FRANCISCO&amp;year=2016\">SAN FRANCISCO, CA</a></td><td>03/13/2016</td><td>08/25/2016</td><td>CERTIFIED</td></tr><tr><td><a href=\"index.php?em=STITCH+FIX+INC&amp;job=DATA+SCIENTIST&amp;city=SAN+FRANCISCO&amp;year=2016\">STITCH FIX INC</a></td><td><a href=\"index.php?em=&amp;job=DATA+SCIENTIST&amp;city=SAN+FRANCISCO&amp;year=2016\">DATA SCIENTIST</a></td><td>123,594</td><td><a href=\"index.php?em=&amp;job=DATA+SCIENTIST&amp;city=SAN+FRANCISCO&amp;year=2016\">SAN FRANCISCO, CA</a></td><td>03/17/2016</td><td>04/11/2016</td><td>CERTIFIED</td></tr><tr><td><a href=\"index.php?em=STITCH+FIX+INC&amp;job=DATA+SCIENTIST&amp;city=SAN+FRANCISCO&amp;year=2016\">STITCH FIX INC</a></td><td><a href=\"index.php?em=&amp;job=DATA+SCIENTIST&amp;city=SAN+FRANCISCO&amp;year=2016\">DATA SCIENTIST</a></td><td>123,594</td><td><a href=\"index.php?em=&amp;job=DATA+SCIENTIST&amp;city=SAN+FRANCISCO&amp;year=2016\">SAN FRANCISCO, CA</a></td><td>05/31/2016</td><td>06/13/2016</td><td>CERTIFIED</td></tr><tr><td><a href=\"index.php?em=VIGLINK+INC&amp;job=DATA+SCIENTIST&amp;city=SAN+FRANCISCO&amp;year=2016\">VIGLINK INC</a></td><td><a href=\"index.php?em=&amp;job=DATA+SCIENTIST&amp;city=SAN+FRANCISCO&amp;year=2016\">DATA SCIENTIST</a></td><td>124,072</td><td><a href=\"index.php?em=&amp;job=DATA+SCIENTIST&amp;city=SAN+FRANCISCO&amp;year=2016\">SAN FRANCISCO, CA</a></td><td>03/08/2016</td><td>09/06/2016</td><td>CERTIFIED</td></tr><tr><td><a href=\"index.php?em=LEANPLUM+INC&amp;job=DATA+SCIENTIST&amp;city=SAN+FRANCISCO&amp;year=2016\">LEANPLUM INC</a></td><td><a href=\"index.php?em=&amp;job=DATA+SCIENTIST&amp;city=SAN+FRANCISCO&amp;year=2016\">DATA SCIENTIST</a></td><td>125,000</td><td><a href=\"index.php?em=&amp;job=DATA+SCIENTIST&amp;city=SAN+FRANCISCO&amp;year=2016\">SAN FRANCISCO, CA</a></td><td>03/01/2016</td><td>08/30/2016</td><td>CERTIFIED</td></tr><tr><td><a href=\"index.php?em=ANCESTRYCOM+OPERATIONS+INC&amp;job=DATA+SCIENTIST&amp;city=SAN+FRANCISCO&amp;year=2016\">ANCESTRYCOM OPERATIONS INC</a></td><td><a href=\"index.php?em=&amp;job=DATA+SCIENTIST&amp;city=SAN+FRANCISCO&amp;year=2016\">DATA SCIENTIST</a></td><td>128,000</td><td><a href=\"index.php?em=&amp;job=DATA+SCIENTIST&amp;city=SAN+FRANCISCO&amp;year=2016\">SAN FRANCISCO, CA</a></td><td>03/03/2016</td><td>09/01/2016</td><td>CERTIFIED</td></tr><tr><td><a href=\"index.php?em=AIRBNB+INC&amp;job=DATA+SCIENTIST&amp;city=SAN+FRANCISCO&amp;year=2016\">AIRBNB INC</a></td><td><a href=\"index.php?em=&amp;job=DATA+SCIENTIST&amp;city=SAN+FRANCISCO&amp;year=2016\">DATA SCIENTIST</a></td><td>130,000</td><td><a href=\"index.php?em=&amp;job=DATA+SCIENTIST&amp;city=SAN+FRANCISCO&amp;year=2016\">SAN FRANCISCO, CA</a></td><td>02/11/2016</td><td>08/01/2016</td><td>CERTIFIED</td></tr><tr><td><a href=\"index.php?em=AIRBNB+INC&amp;job=DATA+SCIENTIST&amp;city=SAN+FRANCISCO&amp;year=2016\">AIRBNB INC</a></td><td><a href=\"index.php?em=&amp;job=DATA+SCIENTIST&amp;city=SAN+FRANCISCO&amp;year=2016\">DATA SCIENTIST</a></td><td>130,000</td><td><a href=\"index.php?em=&amp;job=DATA+SCIENTIST&amp;city=SAN+FRANCISCO&amp;year=2016\">SAN FRANCISCO, CA</a></td><td>02/11/2016</td><td>08/01/2016</td><td>CERTIFIED</td></tr><tr><td><a href=\"index.php?em=QUID+INC&amp;job=DATA+SCIENTIST&amp;city=SAN+FRANCISCO&amp;year=2016\">QUID INC</a></td><td><a href=\"index.php?em=&amp;job=DATA+SCIENTIST&amp;city=SAN+FRANCISCO&amp;year=2016\">DATA SCIENTIST</a></td><td>130,000</td><td><a href=\"index.php?em=&amp;job=DATA+SCIENTIST&amp;city=SAN+FRANCISCO&amp;year=2016\">SAN FRANCISCO, CA</a></td><td>04/15/2016</td><td>04/18/2016</td><td>CERTIFIED</td></tr><tr><td><a href=\"index.php?em=TWITTER+INC&amp;job=DATA+SCIENTIST&amp;city=SAN+FRANCISCO&amp;year=2016\">TWITTER INC</a></td><td><a href=\"index.php?em=&amp;job=DATA+SCIENTIST&amp;city=SAN+FRANCISCO&amp;year=2016\">DATA SCIENTIST</a></td><td>130,000</td><td><a href=\"index.php?em=&amp;job=DATA+SCIENTIST&amp;city=SAN+FRANCISCO&amp;year=2016\">SAN FRANCISCO, CA</a></td><td>05/02/2016</td><td>09/10/2016</td><td>CERTIFIED</td></tr><tr><td><a href=\"index.php?em=LYFT+INC&amp;job=DATA+SCIENTIST&amp;city=SAN+FRANCISCO&amp;year=2016\">LYFT INC</a></td><td><a href=\"index.php?em=&amp;job=DATA+SCIENTIST&amp;city=SAN+FRANCISCO&amp;year=2016\">DATA SCIENTIST</a></td><td>130,000</td><td><a href=\"index.php?em=&amp;job=DATA+SCIENTIST&amp;city=SAN+FRANCISCO&amp;year=2016\">SAN FRANCISCO, CA</a></td><td>04/27/2016</td><td>08/01/2016</td><td>CERTIFIED</td></tr><tr><td><a href=\"index.php?em=LYFT+INC&amp;job=DATA+SCIENTIST&amp;city=SAN+FRANCISCO&amp;year=2016\">LYFT INC</a></td><td><a href=\"index.php?em=&amp;job=DATA+SCIENTIST&amp;city=SAN+FRANCISCO&amp;year=2016\">DATA SCIENTIST</a></td><td>132,000</td><td><a href=\"index.php?em=&amp;job=DATA+SCIENTIST&amp;city=SAN+FRANCISCO&amp;year=2016\">SAN FRANCISCO, CA</a></td><td>02/26/2016</td><td>08/01/2016</td><td>CERTIFIED</td></tr><tr><td><a href=\"index.php?em=OPENDOOR+LABS+INC&amp;job=DATA+SCIENTIST&amp;city=SAN+FRANCISCO&amp;year=2016\">OPENDOOR LABS INC</a></td><td><a href=\"index.php?em=&amp;job=DATA+SCIENTIST&amp;city=SAN+FRANCISCO&amp;year=2016\">DATA SCIENTIST</a></td><td>135,000</td><td><a href=\"index.php?em=&amp;job=DATA+SCIENTIST&amp;city=SAN+FRANCISCO&amp;year=2016\">SAN FRANCISCO, CA</a></td><td>02/04/2016</td><td>07/26/2016</td><td>CERTIFIED</td></tr><tr><td><a href=\"index.php?em=OUTRAGEOUS+LABS+INC&amp;job=DATA+SCIENTIST&amp;city=SAN+FRANCISCO&amp;year=2016\">OUTRAGEOUS LABS INC</a></td><td><a href=\"index.php?em=&amp;job=DATA+SCIENTIST&amp;city=SAN+FRANCISCO&amp;year=2016\">DATA SCIENTIST</a></td><td>135,000</td><td><a href=\"index.php?em=&amp;job=DATA+SCIENTIST&amp;city=SAN+FRANCISCO&amp;year=2016\">SAN FRANCISCO, CA</a></td><td>01/29/2016</td><td>07/30/2016</td><td>CERTIFIED</td></tr><tr><td><a href=\"index.php?em=KODING+INC&amp;job=DATA+SCIENTIST&amp;city=SAN+FRANCISCO&amp;year=2016\">KODING INC</a></td><td><a href=\"index.php?em=&amp;job=DATA+SCIENTIST&amp;city=SAN+FRANCISCO&amp;year=2016\">DATA SCIENTIST</a></td><td>138,486</td><td><a href=\"index.php?em=&amp;job=DATA+SCIENTIST&amp;city=SAN+FRANCISCO&amp;year=2016\">SAN FRANCISCO, CA</a></td><td>03/11/2016</td><td>09/09/2016</td><td>CERTIFIED</td></tr><tr><td><a href=\"index.php?em=STITCH+FIX+INC&amp;job=DATA+SCIENTIST&amp;city=SAN+FRANCISCO&amp;year=2016\">STITCH FIX INC</a></td><td><a href=\"index.php?em=&amp;job=DATA+SCIENTIST&amp;city=SAN+FRANCISCO&amp;year=2016\">DATA SCIENTIST</a></td><td>139,818</td><td><a href=\"index.php?em=&amp;job=DATA+SCIENTIST&amp;city=SAN+FRANCISCO&amp;year=2016\">SAN FRANCISCO, CA</a></td><td>02/08/2016</td><td>02/22/2016</td><td>CERTIFIED</td></tr><tr><td><a href=\"index.php?em=KABBAGE+INC&amp;job=DATA+SCIENTIST&amp;city=SAN+FRANCISCO&amp;year=2016\">KABBAGE INC</a></td><td><a href=\"index.php?em=&amp;job=DATA+SCIENTIST&amp;city=SAN+FRANCISCO&amp;year=2016\">DATA SCIENTIST</a></td><td>140,000</td><td><a href=\"index.php?em=&amp;job=DATA+SCIENTIST&amp;city=SAN+FRANCISCO&amp;year=2016\">SAN FRANCISCO, CA</a></td><td>01/29/2016</td><td>02/15/2016</td><td>CERTIFIED</td></tr><tr><td><a href=\"index.php?em=LYFT+INC&amp;job=DATA+SCIENTIST&amp;city=SAN+FRANCISCO&amp;year=2016\">LYFT INC</a></td><td><a href=\"index.php?em=&amp;job=DATA+SCIENTIST&amp;city=SAN+FRANCISCO&amp;year=2016\">DATA SCIENTIST</a></td><td>140,000</td><td><a href=\"index.php?em=&amp;job=DATA+SCIENTIST&amp;city=SAN+FRANCISCO&amp;year=2016\">SAN FRANCISCO, CA</a></td><td>02/09/2016</td><td>08/01/2016</td><td>CERTIFIED</td></tr><tr><td><a href=\"index.php?em=AIRBNB+INC&amp;job=DATA+SCIENTIST&amp;city=SAN+FRANCISCO&amp;year=2016\">AIRBNB INC</a></td><td><a href=\"index.php?em=&amp;job=DATA+SCIENTIST&amp;city=SAN+FRANCISCO&amp;year=2016\">DATA SCIENTIST</a></td><td>140,000</td><td><a href=\"index.php?em=&amp;job=DATA+SCIENTIST&amp;city=SAN+FRANCISCO&amp;year=2016\">SAN FRANCISCO, CA</a></td><td>02/11/2016</td><td>08/01/2016</td><td>CERTIFIED</td></tr><tr><td><a href=\"index.php?em=POSTMATES+INC&amp;job=DATA+SCIENTIST&amp;city=SAN+FRANCISCO&amp;year=2016\">POSTMATES INC</a></td><td><a href=\"index.php?em=&amp;job=DATA+SCIENTIST&amp;city=SAN+FRANCISCO&amp;year=2016\">DATA SCIENTIST</a></td><td>140,000</td><td><a href=\"index.php?em=&amp;job=DATA+SCIENTIST&amp;city=SAN+FRANCISCO&amp;year=2016\">SAN FRANCISCO, CA</a></td><td>04/04/2016</td><td>04/08/2016</td><td>CERTIFIED</td></tr><tr><td><a href=\"index.php?em=ANCESTRYCOM+OPERATIONS+INC&amp;job=DATA+SCIENTIST&amp;city=SAN+FRANCISCO&amp;year=2016\">ANCESTRYCOM OPERATIONS INC</a></td><td><a href=\"index.php?em=&amp;job=DATA+SCIENTIST&amp;city=SAN+FRANCISCO&amp;year=2016\">DATA SCIENTIST</a></td><td>145,000</td><td><a href=\"index.php?em=&amp;job=DATA+SCIENTIST&amp;city=SAN+FRANCISCO&amp;year=2016\">SAN FRANCISCO, CA</a></td><td>03/03/2016</td><td>09/01/2016</td><td>CERTIFIED</td></tr><tr><td><a href=\"index.php?em=LYFT+INC&amp;job=DATA+SCIENTIST&amp;city=SAN+FRANCISCO&amp;year=2016\">LYFT INC</a></td><td><a href=\"index.php?em=&amp;job=DATA+SCIENTIST&amp;city=SAN+FRANCISCO&amp;year=2016\">DATA SCIENTIST</a></td><td>147,000</td><td><a href=\"index.php?em=&amp;job=DATA+SCIENTIST&amp;city=SAN+FRANCISCO&amp;year=2016\">SAN FRANCISCO, CA</a></td><td>02/09/2016</td><td>08/01/2016</td><td>CERTIFIED</td></tr><tr><td><a href=\"index.php?em=LYFT+INC&amp;job=DATA+SCIENTIST&amp;city=SAN+FRANCISCO&amp;year=2016\">LYFT INC</a></td><td><a href=\"index.php?em=&amp;job=DATA+SCIENTIST&amp;city=SAN+FRANCISCO&amp;year=2016\">DATA SCIENTIST</a></td><td>155,000</td><td><a href=\"index.php?em=&amp;job=DATA+SCIENTIST&amp;city=SAN+FRANCISCO&amp;year=2016\">SAN FRANCISCO, CA</a></td><td>03/14/2016</td><td>08/01/2016</td><td>CERTIFIED</td></tr><tr><td><a href=\"index.php?em=LYFT+INC&amp;job=DATA+SCIENTIST&amp;city=SAN+FRANCISCO&amp;year=2016\">LYFT INC</a></td><td><a href=\"index.php?em=&amp;job=DATA+SCIENTIST&amp;city=SAN+FRANCISCO&amp;year=2016\">DATA SCIENTIST</a></td><td>165,000</td><td><a href=\"index.php?em=&amp;job=DATA+SCIENTIST&amp;city=SAN+FRANCISCO&amp;year=2016\">SAN FRANCISCO, CA</a></td><td>02/19/2016</td><td>03/21/2016</td><td>CERTIFIED</td></tr><tr><td><a href=\"index.php?em=AFFIRM+INC&amp;job=DATA+SCIENTIST&amp;city=SAN+FRANCISCO&amp;year=2016\">AFFIRM INC</a></td><td><a href=\"index.php?em=&amp;job=DATA+SCIENTIST&amp;city=SAN+FRANCISCO&amp;year=2016\">DATA SCIENTIST</a></td><td>165,000</td><td><a href=\"index.php?em=&amp;job=DATA+SCIENTIST&amp;city=SAN+FRANCISCO&amp;year=2016\">SAN FRANCISCO, CA</a></td><td>03/22/2016</td><td>03/31/2016</td><td>CERTIFIED</td></tr><tr><td><a href=\"index.php?em=MAPLEBEAR+INC&amp;job=DATA+SCIENTIST&amp;city=SAN+FRANCISCO&amp;year=2016\">MAPLEBEAR INC</a></td><td><a href=\"index.php?em=&amp;job=DATA+SCIENTIST&amp;city=SAN+FRANCISCO&amp;year=2016\">DATA SCIENTIST</a></td><td>189,000</td><td><a href=\"index.php?em=&amp;job=DATA+SCIENTIST&amp;city=SAN+FRANCISCO&amp;year=2016\">SAN FRANCISCO, CA</a></td><td>04/07/2016</td><td>05/09/2016</td><td>CERTIFIED</td></tr></tbody></table>"
      ]
     },
     "execution_count": 9,
     "metadata": {},
     "output_type": "execute_result"
    }
   ],
   "source": [
    "table = soup.find_all('table')[0] # Grab the first table\n",
    "table"
   ]
  },
  {
   "cell_type": "code",
   "execution_count": 10,
   "metadata": {
    "collapsed": true
   },
   "outputs": [],
   "source": [
    "new_table = pd.DataFrame(columns=range(0,6)) # I know the size "
   ]
  },
  {
   "cell_type": "code",
   "execution_count": 14,
   "metadata": {
    "collapsed": false
   },
   "outputs": [
    {
     "name": "stdout",
     "output_type": "stream",
     "text": [
      "len of row 7\n",
      "len of columns 0\n",
      "len of row 7\n",
      "len of columns 7\n",
      "len of row 7\n",
      "len of columns 7\n",
      "len of row 7\n",
      "len of columns 7\n",
      "len of row 7\n",
      "len of columns 7\n",
      "len of row 7\n",
      "len of columns 7\n",
      "len of row 7\n",
      "len of columns 7\n",
      "len of row 7\n",
      "len of columns 7\n",
      "len of row 7\n",
      "len of columns 7\n",
      "len of row 7\n",
      "len of columns 7\n",
      "len of row 7\n",
      "len of columns 7\n",
      "len of row 7\n",
      "len of columns 7\n",
      "len of row 7\n",
      "len of columns 7\n",
      "len of row 7\n",
      "len of columns 7\n",
      "len of row 7\n",
      "len of columns 7\n",
      "len of row 7\n",
      "len of columns 7\n",
      "len of row 7\n",
      "len of columns 7\n",
      "len of row 7\n",
      "len of columns 7\n",
      "len of row 7\n",
      "len of columns 7\n",
      "len of row 7\n",
      "len of columns 7\n",
      "len of row 7\n",
      "len of columns 7\n",
      "len of row 7\n",
      "len of columns 7\n",
      "len of row 7\n",
      "len of columns 7\n",
      "len of row 7\n",
      "len of columns 7\n",
      "len of row 7\n",
      "len of columns 7\n",
      "len of row 7\n",
      "len of columns 7\n",
      "len of row 7\n",
      "len of columns 7\n",
      "len of row 7\n",
      "len of columns 7\n",
      "len of row 7\n",
      "len of columns 7\n",
      "len of row 7\n",
      "len of columns 7\n",
      "len of row 7\n",
      "len of columns 7\n",
      "len of row 7\n",
      "len of columns 7\n",
      "len of row 7\n",
      "len of columns 7\n",
      "len of row 7\n",
      "len of columns 7\n",
      "len of row 7\n",
      "len of columns 7\n",
      "len of row 7\n",
      "len of columns 7\n",
      "len of row 7\n",
      "len of columns 7\n",
      "len of row 7\n",
      "len of columns 7\n",
      "len of row 7\n",
      "len of columns 7\n",
      "len of row 7\n",
      "len of columns 7\n",
      "len of row 7\n",
      "len of columns 7\n",
      "len of row 7\n",
      "len of columns 7\n",
      "len of row 7\n",
      "len of columns 7\n",
      "len of row 7\n",
      "len of columns 7\n",
      "len of row 7\n",
      "len of columns 7\n",
      "len of row 7\n",
      "len of columns 7\n",
      "len of row 7\n",
      "len of columns 7\n",
      "len of row 7\n",
      "len of columns 7\n",
      "len of row 7\n",
      "len of columns 7\n",
      "len of row 7\n",
      "len of columns 7\n",
      "len of row 7\n",
      "len of columns 7\n",
      "len of row 7\n",
      "len of columns 7\n",
      "len of row 7\n",
      "len of columns 7\n",
      "len of row 7\n",
      "len of columns 7\n",
      "len of row 7\n",
      "len of columns 7\n",
      "len of row 7\n",
      "len of columns 7\n",
      "len of row 7\n",
      "len of columns 7\n",
      "len of row 7\n",
      "len of columns 7\n",
      "len of row 7\n",
      "len of columns 7\n",
      "len of row 7\n",
      "len of columns 7\n",
      "len of row 7\n",
      "len of columns 7\n",
      "len of row 7\n",
      "len of columns 7\n",
      "len of row 7\n",
      "len of columns 7\n",
      "len of row 7\n",
      "len of columns 7\n",
      "len of row 7\n",
      "len of columns 7\n",
      "len of row 7\n",
      "len of columns 7\n",
      "len of row 7\n",
      "len of columns 7\n",
      "len of row 7\n",
      "len of columns 7\n",
      "len of row 7\n",
      "len of columns 7\n",
      "len of row 7\n",
      "len of columns 7\n",
      "len of row 7\n",
      "len of columns 7\n",
      "len of row 7\n",
      "len of columns 7\n",
      "len of row 7\n",
      "len of columns 7\n",
      "len of row 7\n",
      "len of columns 7\n",
      "len of row 7\n",
      "len of columns 7\n",
      "len of row 7\n",
      "len of columns 7\n",
      "len of row 7\n",
      "len of columns 7\n",
      "len of row 7\n",
      "len of columns 7\n",
      "len of row 7\n",
      "len of columns 7\n",
      "len of row 7\n",
      "len of columns 7\n",
      "len of row 7\n",
      "len of columns 7\n",
      "len of row 7\n",
      "len of columns 7\n",
      "len of row 7\n",
      "len of columns 7\n",
      "len of row 7\n",
      "len of columns 7\n",
      "len of row 7\n",
      "len of columns 7\n",
      "len of row 7\n",
      "len of columns 7\n",
      "len of row 7\n",
      "len of columns 7\n",
      "len of row 7\n",
      "len of columns 7\n",
      "len of row 7\n",
      "len of columns 7\n",
      "len of row 7\n",
      "len of columns 7\n",
      "len of row 7\n",
      "len of columns 7\n",
      "len of row 7\n",
      "len of columns 7\n",
      "len of row 7\n",
      "len of columns 7\n",
      "len of row 7\n",
      "len of columns 7\n",
      "len of row 7\n",
      "len of columns 7\n",
      "len of row 7\n",
      "len of columns 7\n",
      "len of row 7\n",
      "len of columns 7\n"
     ]
    }
   ],
   "source": [
    "for row in table.find_all('tr'):\n",
    "    print(\"len of row\",len(row))\n",
    "    columns = row.find_all('td')\n",
    "    print(\"len of columns\", len(columns))"
   ]
  },
  {
   "cell_type": "code",
   "execution_count": 11,
   "metadata": {
    "collapsed": false
   },
   "outputs": [
    {
     "ename": "IndexError",
     "evalue": "index 0 is out of bounds for axis 0 with size 0",
     "output_type": "error",
     "traceback": [
      "\u001b[0;31m---------------------------------------------------------------------------\u001b[0m",
      "\u001b[0;31mIndexError\u001b[0m                                Traceback (most recent call last)",
      "\u001b[0;32m<ipython-input-11-ac977ba010b5>\u001b[0m in \u001b[0;36m<module>\u001b[0;34m()\u001b[0m\n\u001b[1;32m      4\u001b[0m     \u001b[0mcolumns\u001b[0m \u001b[0;34m=\u001b[0m \u001b[0mrow\u001b[0m\u001b[0;34m.\u001b[0m\u001b[0mfind_all\u001b[0m\u001b[0;34m(\u001b[0m\u001b[0;34m'td'\u001b[0m\u001b[0;34m)\u001b[0m\u001b[0;34m\u001b[0m\u001b[0m\n\u001b[1;32m      5\u001b[0m     \u001b[0;32mfor\u001b[0m \u001b[0mcolumn\u001b[0m \u001b[0;32min\u001b[0m \u001b[0mcolumns\u001b[0m\u001b[0;34m:\u001b[0m\u001b[0;34m\u001b[0m\u001b[0m\n\u001b[0;32m----> 6\u001b[0;31m         \u001b[0mnew_table\u001b[0m\u001b[0;34m.\u001b[0m\u001b[0miat\u001b[0m\u001b[0;34m[\u001b[0m\u001b[0mrow_marker\u001b[0m\u001b[0;34m,\u001b[0m\u001b[0mcolumn_marker\u001b[0m\u001b[0;34m]\u001b[0m \u001b[0;34m=\u001b[0m \u001b[0mcolumn\u001b[0m\u001b[0;34m.\u001b[0m\u001b[0mget_text\u001b[0m\u001b[0;34m(\u001b[0m\u001b[0;34m)\u001b[0m\u001b[0;34m\u001b[0m\u001b[0m\n\u001b[0m\u001b[1;32m      7\u001b[0m         \u001b[0mcolumn_marker\u001b[0m \u001b[0;34m+=\u001b[0m \u001b[0;36m1\u001b[0m\u001b[0;34m\u001b[0m\u001b[0m\n\u001b[1;32m      8\u001b[0m \u001b[0mnew_table\u001b[0m\u001b[0;34m\u001b[0m\u001b[0m\n",
      "\u001b[0;32m/Users/Admin/anaconda/lib/python3.5/site-packages/pandas/core/indexing.py\u001b[0m in \u001b[0;36m__setitem__\u001b[0;34m(self, key, value)\u001b[0m\n\u001b[1;32m   1678\u001b[0m         \u001b[0mkey\u001b[0m \u001b[0;34m=\u001b[0m \u001b[0mlist\u001b[0m\u001b[0;34m(\u001b[0m\u001b[0mself\u001b[0m\u001b[0;34m.\u001b[0m\u001b[0m_convert_key\u001b[0m\u001b[0;34m(\u001b[0m\u001b[0mkey\u001b[0m\u001b[0;34m,\u001b[0m \u001b[0mis_setter\u001b[0m\u001b[0;34m=\u001b[0m\u001b[0;32mTrue\u001b[0m\u001b[0;34m)\u001b[0m\u001b[0;34m)\u001b[0m\u001b[0;34m\u001b[0m\u001b[0m\n\u001b[1;32m   1679\u001b[0m         \u001b[0mkey\u001b[0m\u001b[0;34m.\u001b[0m\u001b[0mappend\u001b[0m\u001b[0;34m(\u001b[0m\u001b[0mvalue\u001b[0m\u001b[0;34m)\u001b[0m\u001b[0;34m\u001b[0m\u001b[0m\n\u001b[0;32m-> 1680\u001b[0;31m         \u001b[0mself\u001b[0m\u001b[0;34m.\u001b[0m\u001b[0mobj\u001b[0m\u001b[0;34m.\u001b[0m\u001b[0mset_value\u001b[0m\u001b[0;34m(\u001b[0m\u001b[0;34m*\u001b[0m\u001b[0mkey\u001b[0m\u001b[0;34m,\u001b[0m \u001b[0mtakeable\u001b[0m\u001b[0;34m=\u001b[0m\u001b[0mself\u001b[0m\u001b[0;34m.\u001b[0m\u001b[0m_takeable\u001b[0m\u001b[0;34m)\u001b[0m\u001b[0;34m\u001b[0m\u001b[0m\n\u001b[0m\u001b[1;32m   1681\u001b[0m \u001b[0;34m\u001b[0m\u001b[0m\n\u001b[1;32m   1682\u001b[0m \u001b[0;34m\u001b[0m\u001b[0m\n",
      "\u001b[0;32m/Users/Admin/anaconda/lib/python3.5/site-packages/pandas/core/frame.py\u001b[0m in \u001b[0;36mset_value\u001b[0;34m(self, index, col, value, takeable)\u001b[0m\n\u001b[1;32m   1918\u001b[0m             \u001b[0;32mif\u001b[0m \u001b[0mtakeable\u001b[0m \u001b[0;32mis\u001b[0m \u001b[0;32mTrue\u001b[0m\u001b[0;34m:\u001b[0m\u001b[0;34m\u001b[0m\u001b[0m\n\u001b[1;32m   1919\u001b[0m                 \u001b[0mseries\u001b[0m \u001b[0;34m=\u001b[0m \u001b[0mself\u001b[0m\u001b[0;34m.\u001b[0m\u001b[0m_iget_item_cache\u001b[0m\u001b[0;34m(\u001b[0m\u001b[0mcol\u001b[0m\u001b[0;34m)\u001b[0m\u001b[0;34m\u001b[0m\u001b[0m\n\u001b[0;32m-> 1920\u001b[0;31m                 \u001b[0;32mreturn\u001b[0m \u001b[0mseries\u001b[0m\u001b[0;34m.\u001b[0m\u001b[0mset_value\u001b[0m\u001b[0;34m(\u001b[0m\u001b[0mindex\u001b[0m\u001b[0;34m,\u001b[0m \u001b[0mvalue\u001b[0m\u001b[0;34m,\u001b[0m \u001b[0mtakeable\u001b[0m\u001b[0;34m=\u001b[0m\u001b[0;32mTrue\u001b[0m\u001b[0;34m)\u001b[0m\u001b[0;34m\u001b[0m\u001b[0m\n\u001b[0m\u001b[1;32m   1921\u001b[0m \u001b[0;34m\u001b[0m\u001b[0m\n\u001b[1;32m   1922\u001b[0m             \u001b[0mseries\u001b[0m \u001b[0;34m=\u001b[0m \u001b[0mself\u001b[0m\u001b[0;34m.\u001b[0m\u001b[0m_get_item_cache\u001b[0m\u001b[0;34m(\u001b[0m\u001b[0mcol\u001b[0m\u001b[0;34m)\u001b[0m\u001b[0;34m\u001b[0m\u001b[0m\n",
      "\u001b[0;32m/Users/Admin/anaconda/lib/python3.5/site-packages/pandas/core/series.py\u001b[0m in \u001b[0;36mset_value\u001b[0;34m(self, label, value, takeable)\u001b[0m\n\u001b[1;32m    941\u001b[0m         \u001b[0;32mtry\u001b[0m\u001b[0;34m:\u001b[0m\u001b[0;34m\u001b[0m\u001b[0m\n\u001b[1;32m    942\u001b[0m             \u001b[0;32mif\u001b[0m \u001b[0mtakeable\u001b[0m\u001b[0;34m:\u001b[0m\u001b[0;34m\u001b[0m\u001b[0m\n\u001b[0;32m--> 943\u001b[0;31m                 \u001b[0mself\u001b[0m\u001b[0;34m.\u001b[0m\u001b[0m_values\u001b[0m\u001b[0;34m[\u001b[0m\u001b[0mlabel\u001b[0m\u001b[0;34m]\u001b[0m \u001b[0;34m=\u001b[0m \u001b[0mvalue\u001b[0m\u001b[0;34m\u001b[0m\u001b[0m\n\u001b[0m\u001b[1;32m    944\u001b[0m             \u001b[0;32melse\u001b[0m\u001b[0;34m:\u001b[0m\u001b[0;34m\u001b[0m\u001b[0m\n\u001b[1;32m    945\u001b[0m                 \u001b[0mself\u001b[0m\u001b[0;34m.\u001b[0m\u001b[0mindex\u001b[0m\u001b[0;34m.\u001b[0m\u001b[0m_engine\u001b[0m\u001b[0;34m.\u001b[0m\u001b[0mset_value\u001b[0m\u001b[0;34m(\u001b[0m\u001b[0mself\u001b[0m\u001b[0;34m.\u001b[0m\u001b[0m_values\u001b[0m\u001b[0;34m,\u001b[0m \u001b[0mlabel\u001b[0m\u001b[0;34m,\u001b[0m \u001b[0mvalue\u001b[0m\u001b[0;34m)\u001b[0m\u001b[0;34m\u001b[0m\u001b[0m\n",
      "\u001b[0;31mIndexError\u001b[0m: index 0 is out of bounds for axis 0 with size 0"
     ]
    }
   ],
   "source": [
    "row_marker = 0\n",
    "for row in table.find_all('tr'):\n",
    "    column_marker = 0\n",
    "    columns = row.find_all('td')\n",
    "    for column in columns:\n",
    "        new_table.iat[row_marker,column_marker] = column.get_text()\n",
    "        column_marker += 1\n",
    "new_table"
   ]
  },
  {
   "cell_type": "code",
   "execution_count": 16,
   "metadata": {
    "collapsed": true
   },
   "outputs": [],
   "source": [
    "data = {\n",
    "    'employer' : [],\n",
    "    'job_title' : [],\n",
    "    'base_salary' : [],\n",
    "    'location' : [],\n",
    "    'submit_date' : [],\n",
    "    'start_date' : [],\n",
    "    'case_status' : [],\n",
    "}"
   ]
  },
  {
   "cell_type": "code",
   "execution_count": 17,
   "metadata": {
    "collapsed": true
   },
   "outputs": [],
   "source": [
    "rows = table.find_all('tr')[1:]"
   ]
  },
  {
   "cell_type": "code",
   "execution_count": 18,
   "metadata": {
    "collapsed": true
   },
   "outputs": [],
   "source": [
    "for row in rows:\n",
    "    cols = row.find_all('td')\n",
    "    data['employer'].append( cols[0].get_text() )\n",
    "    data['job_title'].append( cols[1].get_text() )\n",
    "    data['base_salary'].append( cols[2].get_text() )\n",
    "    data['location'].append( cols[3].get_text() )\n",
    "    data['submit_date'].append( cols[4].get_text() )\n",
    "    data['start_date'].append( cols[5].get_text() )\n",
    "    data['case_status'].append( cols[6].get_text() )"
   ]
  },
  {
   "cell_type": "code",
   "execution_count": 19,
   "metadata": {
    "collapsed": true
   },
   "outputs": [],
   "source": [
    "h1b_sfdf = pd.DataFrame( data )"
   ]
  },
  {
   "cell_type": "code",
   "execution_count": 21,
   "metadata": {
    "collapsed": false
   },
   "outputs": [
    {
     "data": {
      "text/html": [
       "<div>\n",
       "<table border=\"1\" class=\"dataframe\">\n",
       "  <thead>\n",
       "    <tr style=\"text-align: right;\">\n",
       "      <th></th>\n",
       "      <th>base_salary</th>\n",
       "      <th>case_status</th>\n",
       "      <th>employer</th>\n",
       "      <th>job_title</th>\n",
       "      <th>location</th>\n",
       "      <th>start_date</th>\n",
       "      <th>submit_date</th>\n",
       "    </tr>\n",
       "  </thead>\n",
       "  <tbody>\n",
       "    <tr>\n",
       "      <th>0</th>\n",
       "      <td>67,683</td>\n",
       "      <td>CERTIFIED</td>\n",
       "      <td>GENSCAPE INC</td>\n",
       "      <td>DATA SCIENTIST</td>\n",
       "      <td>SAN FRANCISCO, CA</td>\n",
       "      <td>09/01/2016</td>\n",
       "      <td>03/08/2016</td>\n",
       "    </tr>\n",
       "    <tr>\n",
       "      <th>1</th>\n",
       "      <td>77,000</td>\n",
       "      <td>CERTIFIED</td>\n",
       "      <td>THE NIELSEN COMPANY (US) LLC</td>\n",
       "      <td>DATA SCIENTIST</td>\n",
       "      <td>SAN FRANCISCO, CA</td>\n",
       "      <td>08/26/2016</td>\n",
       "      <td>02/29/2016</td>\n",
       "    </tr>\n",
       "    <tr>\n",
       "      <th>2</th>\n",
       "      <td>80,000</td>\n",
       "      <td>CERTIFIED</td>\n",
       "      <td>ARISTOCRAT TECHNOLOGIES INC</td>\n",
       "      <td>DATA SCIENTIST</td>\n",
       "      <td>SAN FRANCISCO, CA</td>\n",
       "      <td>06/20/2016</td>\n",
       "      <td>05/31/2016</td>\n",
       "    </tr>\n",
       "    <tr>\n",
       "      <th>3</th>\n",
       "      <td>85,862</td>\n",
       "      <td>CERTIFIED</td>\n",
       "      <td>UBER TECHNOLOGIES INC</td>\n",
       "      <td>DATA SCIENTIST</td>\n",
       "      <td>SAN FRANCISCO, CA</td>\n",
       "      <td>09/01/2016</td>\n",
       "      <td>03/09/2016</td>\n",
       "    </tr>\n",
       "    <tr>\n",
       "      <th>4</th>\n",
       "      <td>85,862</td>\n",
       "      <td>CERTIFIED</td>\n",
       "      <td>STITCH FIX INC</td>\n",
       "      <td>DATA SCIENTIST</td>\n",
       "      <td>SAN FRANCISCO, CA</td>\n",
       "      <td>01/11/2016</td>\n",
       "      <td>01/04/2016</td>\n",
       "    </tr>\n",
       "  </tbody>\n",
       "</table>\n",
       "</div>"
      ],
      "text/plain": [
       "  base_salary case_status                      employer       job_title  \\\n",
       "0      67,683   CERTIFIED                  GENSCAPE INC  DATA SCIENTIST   \n",
       "1      77,000   CERTIFIED  THE NIELSEN COMPANY (US) LLC  DATA SCIENTIST   \n",
       "2      80,000   CERTIFIED   ARISTOCRAT TECHNOLOGIES INC  DATA SCIENTIST   \n",
       "3      85,862   CERTIFIED         UBER TECHNOLOGIES INC  DATA SCIENTIST   \n",
       "4      85,862   CERTIFIED                STITCH FIX INC  DATA SCIENTIST   \n",
       "\n",
       "            location  start_date submit_date  \n",
       "0  SAN FRANCISCO, CA  09/01/2016  03/08/2016  \n",
       "1  SAN FRANCISCO, CA  08/26/2016  02/29/2016  \n",
       "2  SAN FRANCISCO, CA  06/20/2016  05/31/2016  \n",
       "3  SAN FRANCISCO, CA  09/01/2016  03/09/2016  \n",
       "4  SAN FRANCISCO, CA  01/11/2016  01/04/2016  "
      ]
     },
     "execution_count": 21,
     "metadata": {},
     "output_type": "execute_result"
    }
   ],
   "source": [
    "h1b_sfdf.head()"
   ]
  },
  {
   "cell_type": "code",
   "execution_count": 22,
   "metadata": {
    "collapsed": false
   },
   "outputs": [
    {
     "data": {
      "text/plain": [
       "array(['GENSCAPE INC', 'THE NIELSEN COMPANY (US) LLC',\n",
       "       'ARISTOCRAT TECHNOLOGIES INC', 'UBER TECHNOLOGIES INC',\n",
       "       'STITCH FIX INC', 'WILLIAMS-SONOMA INC', 'PATREON INC',\n",
       "       'MONEYLION INC', 'KINGCOM INC', 'CREDIT KARMA INC', 'ZILLOW INC',\n",
       "       'PINTEREST INC', 'RELAYRIDES INC', 'LINKEDIN CORPORATION',\n",
       "       '20N LABS INC', 'PERFECT PRICE INC', 'SQUARE INC',\n",
       "       'PROSPER MARKETPLACE INC', 'POCKET GEMS INC', 'QUID INC',\n",
       "       'SERVATURE INC', 'DATABRICKS INC', 'LUXE VALET INC', 'POPSUGAR INC',\n",
       "       'GINGERIO INC', 'RIVIERA PARTNERS', 'TWITTER INC', 'DOXIMITY INC',\n",
       "       'NEXTDOORCOM INC', 'RADIUMONE INC', 'ADLAST INC',\n",
       "       'VESTED FINANCE INC', 'DROPBOX INC', 'UBIOME INC', 'AIRBNB INC',\n",
       "       'VIGLINK INC', 'LEANPLUM INC', 'ANCESTRYCOM OPERATIONS INC',\n",
       "       'LYFT INC', 'OPENDOOR LABS INC', 'OUTRAGEOUS LABS INC',\n",
       "       'KODING INC', 'KABBAGE INC', 'POSTMATES INC', 'AFFIRM INC',\n",
       "       'MAPLEBEAR INC'], dtype=object)"
      ]
     },
     "execution_count": 22,
     "metadata": {},
     "output_type": "execute_result"
    }
   ],
   "source": [
    "unique_employers = h1b_sfdf['employer'].unique()"
   ]
  },
  {
   "cell_type": "code",
   "execution_count": 24,
   "metadata": {
    "collapsed": false
   },
   "outputs": [
    {
     "ename": "NameError",
     "evalue": "name 'unique_employers' is not defined",
     "output_type": "error",
     "traceback": [
      "\u001b[0;31m---------------------------------------------------------------------------\u001b[0m",
      "\u001b[0;31mNameError\u001b[0m                                 Traceback (most recent call last)",
      "\u001b[0;32m<ipython-input-24-e7ac3d422ebb>\u001b[0m in \u001b[0;36m<module>\u001b[0;34m()\u001b[0m\n\u001b[0;32m----> 1\u001b[0;31m \u001b[0mh1b_sfdf\u001b[0m\u001b[0;34m[\u001b[0m\u001b[0mh1b_sfdf\u001b[0m\u001b[0;34m[\u001b[0m\u001b[0;34m'employer'\u001b[0m\u001b[0;34m]\u001b[0m \u001b[0;32min\u001b[0m \u001b[0munique_employers\u001b[0m\u001b[0;34m]\u001b[0m\u001b[0;34m[\u001b[0m\u001b[0;34m'base_salary'\u001b[0m\u001b[0;34m]\u001b[0m\u001b[0;34m.\u001b[0m\u001b[0mmax\u001b[0m\u001b[0;34m(\u001b[0m\u001b[0;34m)\u001b[0m\u001b[0;34m\u001b[0m\u001b[0m\n\u001b[0m",
      "\u001b[0;31mNameError\u001b[0m: name 'unique_employers' is not defined"
     ]
    }
   ],
   "source": [
    "h1b_sfdf[h1b_sfdf['employer'] in unique_employers]['base_salary'].max()"
   ]
  },
  {
   "cell_type": "code",
   "execution_count": null,
   "metadata": {
    "collapsed": true
   },
   "outputs": [],
   "source": []
  }
 ],
 "metadata": {
  "anaconda-cloud": {},
  "kernelspec": {
   "display_name": "Python [conda root]",
   "language": "python",
   "name": "conda-root-py"
  },
  "language_info": {
   "codemirror_mode": {
    "name": "ipython",
    "version": 3
   },
   "file_extension": ".py",
   "mimetype": "text/x-python",
   "name": "python",
   "nbconvert_exporter": "python",
   "pygments_lexer": "ipython3",
   "version": "3.5.1"
  }
 },
 "nbformat": 4,
 "nbformat_minor": 0
}
